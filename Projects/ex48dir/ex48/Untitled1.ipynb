{
 "cells": [
  {
   "cell_type": "code",
   "execution_count": 1,
   "metadata": {
    "collapsed": true
   },
   "outputs": [],
   "source": [
    "import lexicon"
   ]
  },
  {
   "cell_type": "code",
   "execution_count": 2,
   "metadata": {
    "collapsed": false
   },
   "outputs": [
    {
     "ename": "NameError",
     "evalue": "name 'mylexicon' is not defined",
     "output_type": "error",
     "traceback": [
      "\u001b[1;31m---------------------------------------------------------------------------\u001b[0m",
      "\u001b[1;31mNameError\u001b[0m                                 Traceback (most recent call last)",
      "\u001b[1;32m<ipython-input-2-e7ef7038694e>\u001b[0m in \u001b[0;36m<module>\u001b[1;34m()\u001b[0m\n\u001b[1;32m----> 1\u001b[1;33m \u001b[0mmylexicon\u001b[0m\u001b[1;33m.\u001b[0m\u001b[0mscan\u001b[0m\u001b[1;33m(\u001b[0m\u001b[1;34m'go north'\u001b[0m\u001b[1;33m)\u001b[0m\u001b[1;33m\u001b[0m\u001b[0m\n\u001b[0m",
      "\u001b[1;31mNameError\u001b[0m: name 'mylexicon' is not defined"
     ]
    }
   ],
   "source": [
    "mylexicon.scan('go north')"
   ]
  },
  {
   "cell_type": "code",
   "execution_count": 3,
   "metadata": {
    "collapsed": true
   },
   "outputs": [],
   "source": [
    "import lexicon"
   ]
  },
  {
   "cell_type": "code",
   "execution_count": 4,
   "metadata": {
    "collapsed": false
   },
   "outputs": [
    {
     "data": {
      "text/plain": [
       "<module 'lexicon' from 'lexicon.pyc'>"
      ]
     },
     "execution_count": 4,
     "metadata": {},
     "output_type": "execute_result"
    }
   ],
   "source": [
    "lexicon"
   ]
  },
  {
   "cell_type": "code",
   "execution_count": 65,
   "metadata": {
    "collapsed": false
   },
   "outputs": [],
   "source": [
    "class Scanner(object):\n",
    "\n",
    "    def __init__(self, directions,\n",
    "                 verbs, stops, nouns):\n",
    "        self.directions = directions.split()\n",
    "        self.verbs = verbs.split()\n",
    "        self.stops = stops.split()\n",
    "        self.nouns = nouns.split()\n",
    "\n",
    "    def findWord(self, word):\n",
    "        wordList = [self.directions, self.verbs,\n",
    "                    self.stops, self.nouns]\n",
    "        wordListname = ['direction', 'verb',\n",
    "                        'stop', 'noun']\n",
    "        for i in range(0, len(wordList)):\n",
    "            if word in wordList[i]:\n",
    "                print word, 'is in', wordListname[i]\n",
    "                return (wordListname[i], word)\n",
    "        \n",
    "        print 'check to see if word is actually a number'\n",
    "        return self.is_int(word)\n",
    "            \n",
    "    def is_int(self, s):\n",
    "        try:\n",
    "            int(s)\n",
    "            return ('number', s)\n",
    "        \n",
    "        except ValueError:\n",
    "            return ('error', s)\n",
    "\n",
    "    def scan(self, usrinput):\n",
    "        usrinput = usrinput.lower().split()\n",
    "        for word in usrinput:   \n",
    "            print self.findWord(word)\n",
    "\n",
    "lexicon = Scanner('north south east west',\n",
    "                  'go kill eat',\n",
    "                  'the in of then',\n",
    "                  'bear princess witch mage warrior')"
   ]
  },
  {
   "cell_type": "code",
   "execution_count": 67,
   "metadata": {
    "collapsed": false
   },
   "outputs": [
    {
     "name": "stdout",
     "output_type": "stream",
     "text": [
      "go is in verb\n",
      "('verb', 'go')\n",
      "north is in direction\n",
      "('direction', 'north')\n",
      "then is in stop\n",
      "('stop', 'then')\n",
      "kill is in verb\n",
      "('verb', 'kill')\n",
      "the is in stop\n",
      "('stop', 'the')\n",
      "princess is in noun\n",
      "('noun', 'princess')\n",
      "then is in stop\n",
      "('stop', 'then')\n",
      "check to see if word is actually a number\n",
      "('error', 'poop')\n",
      "check to see if word is actually a number\n",
      "('number', '123')\n",
      "check to see if word is actually a number\n",
      "('error', 'times')\n"
     ]
    }
   ],
   "source": [
    "lexicon.scan('Go north then kill the princess then poop 123 times')"
   ]
  },
  {
   "cell_type": "code",
   "execution_count": 24,
   "metadata": {
    "collapsed": false
   },
   "outputs": [
    {
     "data": {
      "text/plain": [
       "123"
      ]
     },
     "execution_count": 24,
     "metadata": {},
     "output_type": "execute_result"
    }
   ],
   "source": [
    "int('123')"
   ]
  },
  {
   "cell_type": "code",
   "execution_count": null,
   "metadata": {
    "collapsed": true
   },
   "outputs": [],
   "source": []
  }
 ],
 "metadata": {
  "kernelspec": {
   "display_name": "Python 2",
   "language": "python",
   "name": "python2"
  },
  "language_info": {
   "codemirror_mode": {
    "name": "ipython",
    "version": 2
   },
   "file_extension": ".py",
   "mimetype": "text/x-python",
   "name": "python",
   "nbconvert_exporter": "python",
   "pygments_lexer": "ipython2",
   "version": "2.7.10"
  }
 },
 "nbformat": 4,
 "nbformat_minor": 0
}
